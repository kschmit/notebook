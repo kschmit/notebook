{
    "nbformat_minor": 1, 
    "cells": [
        {
            "execution_count": 1, 
            "cell_type": "code", 
            "metadata": {}, 
            "outputs": [
                {
                    "output_type": "stream", 
                    "name": "stdout", 
                    "text": "Waiting for a Spark session to start...\nSpark Initialization Done! ApplicationId = app-20181003152543-0000\n"
                }, 
                {
                    "execution_count": 1, 
                    "metadata": {}, 
                    "data": {
                        "text/html": "<div>\n<style scoped>\n    .dataframe tbody tr th:only-of-type {\n        vertical-align: middle;\n    }\n\n    .dataframe tbody tr th {\n        vertical-align: top;\n    }\n\n    .dataframe thead th {\n        text-align: right;\n    }\n</style>\n<table border=\"1\" class=\"dataframe\">\n  <thead>\n    <tr style=\"text-align: right;\">\n      <th></th>\n      <th>Country or Area Code</th>\n      <th>Country or Area</th>\n      <th>Year</th>\n      <th>Sex</th>\n      <th>Classification</th>\n      <th>Subclassification</th>\n      <th>Coverage</th>\n      <th>Scope</th>\n      <th>Source</th>\n      <th>SourceID</th>\n      <th>Value</th>\n      <th>Value Footnotes</th>\n    </tr>\n  </thead>\n  <tbody>\n    <tr>\n      <th>0</th>\n      <td>AD</td>\n      <td>Andorra</td>\n      <td>2007</td>\n      <td>Total men and women</td>\n      <td>ISIC-Rev.3</td>\n      <td>Total.</td>\n      <td>Employees</td>\n      <td>Earnings per month</td>\n      <td>Administrative records and related sources</td>\n      <td># 0</td>\n      <td>1810.7</td>\n      <td>NaN</td>\n    </tr>\n    <tr>\n      <th>1</th>\n      <td>AD</td>\n      <td>Andorra</td>\n      <td>2007</td>\n      <td>Men</td>\n      <td>ISIC-Rev.3</td>\n      <td>Total.</td>\n      <td>Employees</td>\n      <td>Earnings per month</td>\n      <td>Administrative records and related sources</td>\n      <td># 0</td>\n      <td>2098.4</td>\n      <td>NaN</td>\n    </tr>\n    <tr>\n      <th>2</th>\n      <td>AD</td>\n      <td>Andorra</td>\n      <td>2007</td>\n      <td>Women</td>\n      <td>ISIC-Rev.3</td>\n      <td>Total.</td>\n      <td>Employees</td>\n      <td>Earnings per month</td>\n      <td>Administrative records and related sources</td>\n      <td># 0</td>\n      <td>1480.9</td>\n      <td>NaN</td>\n    </tr>\n    <tr>\n      <th>3</th>\n      <td>AD</td>\n      <td>Andorra</td>\n      <td>2006</td>\n      <td>Total men and women</td>\n      <td>ISIC-Rev.3</td>\n      <td>Total.</td>\n      <td>Employees</td>\n      <td>Earnings per month</td>\n      <td>Administrative records and related sources</td>\n      <td># 0</td>\n      <td>1726.5</td>\n      <td>NaN</td>\n    </tr>\n    <tr>\n      <th>4</th>\n      <td>AD</td>\n      <td>Andorra</td>\n      <td>2006</td>\n      <td>Men</td>\n      <td>ISIC-Rev.3</td>\n      <td>Total.</td>\n      <td>Employees</td>\n      <td>Earnings per month</td>\n      <td>Administrative records and related sources</td>\n      <td># 0</td>\n      <td>1996.4</td>\n      <td>NaN</td>\n    </tr>\n  </tbody>\n</table>\n</div>", 
                        "text/plain": "  Country or Area Code Country or Area  Year                  Sex  \\\n0                   AD         Andorra  2007  Total men and women   \n1                   AD         Andorra  2007                  Men   \n2                   AD         Andorra  2007                Women   \n3                   AD         Andorra  2006  Total men and women   \n4                   AD         Andorra  2006                  Men   \n\n  Classification Subclassification   Coverage               Scope  \\\n0     ISIC-Rev.3            Total.  Employees  Earnings per month   \n1     ISIC-Rev.3            Total.  Employees  Earnings per month   \n2     ISIC-Rev.3            Total.  Employees  Earnings per month   \n3     ISIC-Rev.3            Total.  Employees  Earnings per month   \n4     ISIC-Rev.3            Total.  Employees  Earnings per month   \n\n                                       Source SourceID   Value Value Footnotes  \n0  Administrative records and related sources      # 0  1810.7             NaN  \n1  Administrative records and related sources      # 0  2098.4             NaN  \n2  Administrative records and related sources      # 0  1480.9             NaN  \n3  Administrative records and related sources      # 0  1726.5             NaN  \n4  Administrative records and related sources      # 0  1996.4             NaN  "
                    }, 
                    "output_type": "execute_result"
                }
            ], 
            "source": "# The code was removed by Watson Studio for sharing."
        }, 
        {
            "execution_count": null, 
            "cell_type": "code", 
            "metadata": {}, 
            "outputs": [], 
            "source": ""
        }
    ], 
    "metadata": {
        "kernelspec": {
            "display_name": "Python 3.5 with Spark", 
            "name": "python3", 
            "language": "python3"
        }, 
        "language_info": {
            "mimetype": "text/x-python", 
            "nbconvert_exporter": "python", 
            "version": "3.5.4", 
            "name": "python", 
            "file_extension": ".py", 
            "pygments_lexer": "ipython3", 
            "codemirror_mode": {
                "version": 3, 
                "name": "ipython"
            }
        }
    }, 
    "nbformat": 4
}